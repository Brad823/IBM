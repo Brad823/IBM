{
 "cells": [
  {
   "cell_type": "markdown",
   "metadata": {},
   "source": [
    "# Canadian Postcode Analysis\n",
    "Use the Notebook to build the code to scrape the following Wikipedia page, https://en.wikipedia.org/wiki/List_of_postal_codes_of_Canada:_M, in order to obtain the data that is in the table of postal codes and to transform the data into a pandas dataframe like the one shown below:\n"
   ]
  },
  {
   "cell_type": "code",
   "execution_count": 8,
   "metadata": {
    "scrolled": true
   },
   "outputs": [
    {
     "name": "stdout",
     "output_type": "stream",
     "text": [
      "  Postcode           Borough     Neighbourhood\n",
      "0      M1A      Not assigned      Not assigned\n",
      "1      M2A      Not assigned      Not assigned\n",
      "2      M3A        North York         Parkwoods\n",
      "3      M4A        North York  Victoria Village\n",
      "4      M5A  Downtown Toronto      Harbourfront\n"
     ]
    }
   ],
   "source": [
    "import pandas as pd\n",
    "\n",
    "pcode = pd.read_html('https://en.wikipedia.org/wiki/List_of_postal_codes_of_Canada:_M')[0]\n",
    "\n",
    "print (pcode.head())\n",
    "                                                                        "
   ]
  },
  {
   "cell_type": "markdown",
   "metadata": {},
   "source": [
    "#### Ignore cells with a borough that is Not assigned."
   ]
  },
  {
   "cell_type": "code",
   "execution_count": 7,
   "metadata": {},
   "outputs": [
    {
     "name": "stdout",
     "output_type": "stream",
     "text": [
      "  Postcode           Borough     Neighbourhood\n",
      "2      M3A        North York         Parkwoods\n",
      "3      M4A        North York  Victoria Village\n",
      "4      M5A  Downtown Toronto      Harbourfront\n",
      "5      M6A        North York  Lawrence Heights\n",
      "6      M6A        North York    Lawrence Manor\n"
     ]
    }
   ],
   "source": [
    "pcodes_filtered = pcode[~(pcode[\"Borough\"] == 'Not assigned')]\n",
    "\n",
    "print (pcodes_filtered.head())  "
   ]
  },
  {
   "cell_type": "markdown",
   "metadata": {},
   "source": [
    "#### Combine into one Boroughs into one row with the neighborhoods separated with a comma"
   ]
  },
  {
   "cell_type": "code",
   "execution_count": 3,
   "metadata": {},
   "outputs": [
    {
     "name": "stdout",
     "output_type": "stream",
     "text": [
      "              Borough                                      Neighbourhood\n",
      "Postcode                                                                \n",
      "M1B       Scarborough                                      Rouge,Malvern\n",
      "M1C       Scarborough               Highland Creek,Rouge Hill,Port Union\n",
      "M1E       Scarborough                    West Hill,Morningside,Guildwood\n",
      "M1G       Scarborough                                             Woburn\n",
      "M1H       Scarborough                                          Cedarbrae\n",
      "...               ...                                                ...\n",
      "M9C         Etobicoke  Bloordale Gardens,Old Burnhamthorpe,Markland W...\n",
      "M9L        North York                                      Humber Summit\n",
      "M9M        North York                                    Emery,Humberlea\n",
      "M9N              York                                             Weston\n",
      "M9P         Etobicoke                                          Westmount\n",
      "\n",
      "[100 rows x 2 columns]\n"
     ]
    }
   ],
   "source": [
    "pcodes_final = pcodes_filtered.groupby(\"Postcode\").agg(lambda y:','.join(set(y)))\n",
    "\n",
    "print(pcodes_final.head(100))"
   ]
  },
  {
   "cell_type": "markdown",
   "metadata": {},
   "source": [
    "#### If a cell has a borough but a Not assigned neighborhood, then the neighborhood will be the same as the borough.\n",
    "But as test below shows here are no neighhoods like that so - nothing required"
   ]
  },
  {
   "cell_type": "code",
   "execution_count": 4,
   "metadata": {},
   "outputs": [
    {
     "name": "stdout",
     "output_type": "stream",
     "text": [
      "Empty DataFrame\n",
      "Columns: [Postcode, Borough, Neighbourhood]\n",
      "Index: []\n"
     ]
    }
   ],
   "source": [
    "pcode_test= pcodes_filtered[(pcodes_filtered[\"Neighbourhood\"] == 'Not assigned')]\n",
    "print(pcode_test)"
   ]
  },
  {
   "cell_type": "code",
   "execution_count": 5,
   "metadata": {},
   "outputs": [
    {
     "name": "stdout",
     "output_type": "stream",
     "text": [
      "(103, 2)\n"
     ]
    }
   ],
   "source": [
    "print (pcodes_final.shape)"
   ]
  }
 ],
 "metadata": {
  "kernelspec": {
   "display_name": "Python 3",
   "language": "python",
   "name": "python3"
  },
  "language_info": {
   "codemirror_mode": {
    "name": "ipython",
    "version": 3
   },
   "file_extension": ".py",
   "mimetype": "text/x-python",
   "name": "python",
   "nbconvert_exporter": "python",
   "pygments_lexer": "ipython3",
   "version": "3.7.4"
  }
 },
 "nbformat": 4,
 "nbformat_minor": 2
}
