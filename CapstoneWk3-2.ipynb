{
 "cells": [
  {
   "cell_type": "markdown",
   "metadata": {},
   "source": [
    "# Canadian Postcode Analysis\n",
    "Use the Notebook to build the code to scrape the following Wikipedia page, https://en.wikipedia.org/wiki/List_of_postal_codes_of_Canada:_M, in order to obtain the data that is in the table of postal codes and to transform the data into a pandas dataframe like the one shown below:\n"
   ]
  },
  {
   "cell_type": "code",
   "execution_count": 2,
   "metadata": {
    "scrolled": true
   },
   "outputs": [
    {
     "name": "stdout",
     "output_type": "stream",
     "text": [
      "  Postcode           Borough     Neighbourhood\n",
      "0      M1A      Not assigned      Not assigned\n",
      "1      M2A      Not assigned      Not assigned\n",
      "2      M3A        North York         Parkwoods\n",
      "3      M4A        North York  Victoria Village\n",
      "4      M5A  Downtown Toronto      Harbourfront\n"
     ]
    }
   ],
   "source": [
    "import pandas as pd\n",
    "\n",
    "pcode = pd.read_html('https://en.wikipedia.org/wiki/List_of_postal_codes_of_Canada:_M')[0]\n",
    "\n",
    "print (pcode.head())\n",
    "                                                                        "
   ]
  },
  {
   "cell_type": "markdown",
   "metadata": {},
   "source": [
    "#### Ignore cells with a borough that is Not assigned."
   ]
  },
  {
   "cell_type": "code",
   "execution_count": 41,
   "metadata": {},
   "outputs": [
    {
     "name": "stdout",
     "output_type": "stream",
     "text": [
      "  Postcode           Borough     Neighbourhood\n",
      "2      M3A        North York         Parkwoods\n",
      "3      M4A        North York  Victoria Village\n",
      "4      M5A  Downtown Toronto      Harbourfront\n",
      "5      M6A        North York  Lawrence Heights\n",
      "6      M6A        North York    Lawrence Manor\n"
     ]
    }
   ],
   "source": [
    "pcodes_filter = pcode[~(pcodes[\"Borough\"] == 'Not assigned')]\n",
    "\n",
    "print (pcodes_filter.head())  "
   ]
  },
  {
   "cell_type": "markdown",
   "metadata": {},
   "source": [
    "#### Combine into one Boroughs into one row with the neighborhoods separated with a comma"
   ]
  },
  {
   "cell_type": "code",
   "execution_count": 54,
   "metadata": {},
   "outputs": [
    {
     "name": "stdout",
     "output_type": "stream",
     "text": [
      "              Borough                                      Neighbourhood\n",
      "Postcode                                                                \n",
      "M1B       Scarborough                                      Malvern,Rouge\n",
      "M1C       Scarborough               Rouge Hill,Highland Creek,Port Union\n",
      "M1E       Scarborough                    West Hill,Morningside,Guildwood\n",
      "M1G       Scarborough                                             Woburn\n",
      "M1H       Scarborough                                          Cedarbrae\n",
      "...               ...                                                ...\n",
      "M9C         Etobicoke  Markland Wood,Bloordale Gardens,Old Burnhamtho...\n",
      "M9L        North York                                      Humber Summit\n",
      "M9M        North York                                    Humberlea,Emery\n",
      "M9N              York                                             Weston\n",
      "M9P         Etobicoke                                          Westmount\n",
      "\n",
      "[100 rows x 2 columns]\n",
      "(103, 2)\n"
     ]
    }
   ],
   "source": [
    "pcodes_final = pcodes_filter.groupby(\"Postcode\").agg(lambda y:','.join(set(y)))\n",
    "\n",
    "print(pcodes_final.head(100))"
   ]
  },
  {
   "cell_type": "markdown",
   "metadata": {},
   "source": [
    "#### If a cell has a borough but a Not assigned neighborhood, then the neighborhood will be the same as the borough.\n",
    "But as test below shows here are no neighhoods like that so - nothing required"
   ]
  },
  {
   "cell_type": "code",
   "execution_count": 51,
   "metadata": {},
   "outputs": [
    {
     "name": "stdout",
     "output_type": "stream",
     "text": [
      "Empty DataFrame\n",
      "Columns: [Borough, Neighbourhood]\n",
      "Index: []\n"
     ]
    }
   ],
   "source": [
    "pcode_test= pcodes_com[(pcodes_com[\"Neighbourhood\"] == 'Not assigned')]\n",
    "print(pcode_test)"
   ]
  },
  {
   "cell_type": "code",
   "execution_count": 55,
   "metadata": {},
   "outputs": [
    {
     "name": "stdout",
     "output_type": "stream",
     "text": [
      "(103, 2)\n"
     ]
    }
   ],
   "source": [
    "print (pcodes_final.shape)"
   ]
  },
  {
   "cell_type": "markdown",
   "metadata": {},
   "source": [
    "# Stage 2\n",
    "Import CSV File with Geo coordinates\n"
   ]
  },
  {
   "cell_type": "code",
   "execution_count": 4,
   "metadata": {},
   "outputs": [
    {
     "name": "stdout",
     "output_type": "stream",
     "text": [
      "    Postal Code   Latitude  Longitude\n",
      "0           M1B  43.806686 -79.194353\n",
      "1           M1C  43.784535 -79.160497\n",
      "2           M1E  43.763573 -79.188711\n",
      "3           M1G  43.770992 -79.216917\n",
      "4           M1H  43.773136 -79.239476\n",
      "..          ...        ...        ...\n",
      "98          M9N  43.706876 -79.518188\n",
      "99          M9P  43.696319 -79.532242\n",
      "100         M9R  43.688905 -79.554724\n",
      "101         M9V  43.739416 -79.588437\n",
      "102         M9W  43.706748 -79.594054\n",
      "\n",
      "[103 rows x 3 columns]\n"
     ]
    }
   ],
   "source": [
    "geodata = pd.read_csv('/Users/Paul/Coding/IBM Courses Info/Capstone/Geospatial_Coordinates.csv')\n",
    "print(geodata)"
   ]
  },
  {
   "cell_type": "markdown",
   "metadata": {},
   "source": [
    "Merge"
   ]
  },
  {
   "cell_type": "code",
   "execution_count": null,
   "metadata": {},
   "outputs": [],
   "source": [
    "canada = pd.merge(pcodes_final,geodata, on='Postalcode')\n",
    "print(canada)"
   ]
  },
  {
   "cell_type": "code",
   "execution_count": null,
   "metadata": {},
   "outputs": [],
   "source": []
  },
  {
   "cell_type": "code",
   "execution_count": null,
   "metadata": {},
   "outputs": [],
   "source": []
  },
  {
   "cell_type": "code",
   "execution_count": null,
   "metadata": {},
   "outputs": [],
   "source": []
  }
 ],
 "metadata": {
  "kernelspec": {
   "display_name": "Python 3",
   "language": "python",
   "name": "python3"
  },
  "language_info": {
   "codemirror_mode": {
    "name": "ipython",
    "version": 3
   },
   "file_extension": ".py",
   "mimetype": "text/x-python",
   "name": "python",
   "nbconvert_exporter": "python",
   "pygments_lexer": "ipython3",
   "version": "3.7.4"
  }
 },
 "nbformat": 4,
 "nbformat_minor": 2
}
